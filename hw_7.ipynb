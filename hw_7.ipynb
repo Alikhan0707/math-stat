{
 "cells": [
  {
   "cell_type": "code",
   "execution_count": 1,
   "metadata": {},
   "outputs": [],
   "source": [
    "import numpy as np"
   ]
  },
  {
   "cell_type": "markdown",
   "metadata": {},
   "source": [
    "### 1. Даны значения величины заработной платы заемщиков банка (zp) и значения их поведенческого кредитного скоринга (ks): zp = [35, 45, 190, 200, 40, 70, 54, 150, 120, 110], ks = [401, 574, 874, 919, 459, 739, 653, 902, 746, 832]. Используя математические операции, посчитать коэффициенты линейной регрессии, приняв за X заработную плату (то есть, zp - признак), а за y - значения скорингового балла (то есть, ks - целевая переменная). Произвести расчет как с использованием intercept, так и без."
   ]
  },
  {
   "cell_type": "code",
   "execution_count": 493,
   "metadata": {},
   "outputs": [
    {
     "data": {
      "text/plain": [
       "(array([[ 35],\n",
       "        [ 45],\n",
       "        [190],\n",
       "        [200],\n",
       "        [ 40],\n",
       "        [ 70],\n",
       "        [ 54],\n",
       "        [150],\n",
       "        [120],\n",
       "        [110]]),\n",
       " array([[401],\n",
       "        [574],\n",
       "        [874],\n",
       "        [919],\n",
       "        [459],\n",
       "        [739],\n",
       "        [653],\n",
       "        [902],\n",
       "        [746],\n",
       "        [832]]))"
      ]
     },
     "execution_count": 493,
     "metadata": {},
     "output_type": "execute_result"
    }
   ],
   "source": [
    "zp = np.array([[35, 45, 190, 200, 40, 70, 54, 150, 120, 110]])\n",
    "ks = np.array([[401, 574, 874, 919, 459, 739, 653, 902, 746, 832]])\n",
    "\n",
    "X = zp.reshape((10,1))\n",
    "y = ks.reshape((10,1))\n",
    "X, y"
   ]
  },
  {
   "cell_type": "code",
   "execution_count": 494,
   "metadata": {},
   "outputs": [
    {
     "data": {
      "text/plain": [
       "array([[5.88982042]])"
      ]
     },
     "execution_count": 494,
     "metadata": {},
     "output_type": "execute_result"
    }
   ],
   "source": [
    "B = np.dot(np.linalg.inv(np.dot(X.T, X)), X.T@y)\n",
    "B"
   ]
  },
  {
   "cell_type": "code",
   "execution_count": 495,
   "metadata": {},
   "outputs": [
    {
     "data": {
      "text/plain": [
       "array([ 206.1437147 ,  265.04191891, 1119.06587983, 1177.96408403,\n",
       "        235.59281681,  412.28742941,  318.05030269,  883.47306302,\n",
       "        706.77845042,  647.88024621])"
      ]
     },
     "execution_count": 495,
     "metadata": {},
     "output_type": "execute_result"
    }
   ],
   "source": [
    "B1 = B[0,0]\n",
    "y_hat = B1 * zp[0]\n",
    "y_hat"
   ]
  },
  {
   "cell_type": "code",
   "execution_count": 496,
   "metadata": {},
   "outputs": [
    {
     "data": {
      "text/plain": [
       "56516.8584157194"
      ]
     },
     "execution_count": 496,
     "metadata": {},
     "output_type": "execute_result"
    }
   ],
   "source": [
    "mse = ((ks[0] - y_hat)**2).sum()/len(zp[0])\n",
    "mse"
   ]
  },
  {
   "cell_type": "code",
   "execution_count": 497,
   "metadata": {},
   "outputs": [
    {
     "data": {
      "text/plain": [
       "array([[  1.,  35.],\n",
       "       [  1.,  45.],\n",
       "       [  1., 190.],\n",
       "       [  1., 200.],\n",
       "       [  1.,  40.],\n",
       "       [  1.,  70.],\n",
       "       [  1.,  54.],\n",
       "       [  1., 150.],\n",
       "       [  1., 120.],\n",
       "       [  1., 110.]])"
      ]
     },
     "execution_count": 497,
     "metadata": {},
     "output_type": "execute_result"
    }
   ],
   "source": [
    "X = np.hstack([np.ones((10,1)), X])\n",
    "X"
   ]
  },
  {
   "cell_type": "code",
   "execution_count": 498,
   "metadata": {},
   "outputs": [
    {
     "data": {
      "text/plain": [
       "array([[444.17735732],\n",
       "       [  2.62053888]])"
      ]
     },
     "execution_count": 498,
     "metadata": {},
     "output_type": "execute_result"
    }
   ],
   "source": [
    "B = np.dot(np.linalg.inv(np.dot(X.T, X)), X.T@y)\n",
    "B"
   ]
  },
  {
   "cell_type": "code",
   "execution_count": 499,
   "metadata": {},
   "outputs": [
    {
     "data": {
      "text/plain": [
       "array([535.89621821, 562.10160703, 942.07974498, 968.2851338 ,\n",
       "       548.99891262, 627.61507909, 585.68645697, 837.25818968,\n",
       "       758.64202321, 732.43663439])"
      ]
     },
     "execution_count": 499,
     "metadata": {},
     "output_type": "execute_result"
    }
   ],
   "source": [
    "B0 = B[0,0]\n",
    "B1 = B[1,0]\n",
    "y_hat = B0 + B1 * zp[0]\n",
    "y_hat"
   ]
  },
  {
   "cell_type": "code",
   "execution_count": 500,
   "metadata": {},
   "outputs": [
    {
     "data": {
      "text/plain": [
       "6470.414201176659"
      ]
     },
     "execution_count": 500,
     "metadata": {},
     "output_type": "execute_result"
    }
   ],
   "source": [
    "mse = ((ks[0] - y_hat)**2).sum()/len(zp[0])\n",
    "mse"
   ]
  },
  {
   "cell_type": "markdown",
   "metadata": {},
   "source": [
    "### 2. Посчитать коэффициент линейной регрессии при заработной плате (zp), используя градиентный спуск (без intercept)."
   ]
  },
  {
   "cell_type": "code",
   "execution_count": 556,
   "metadata": {},
   "outputs": [],
   "source": [
    "X = np.array([35, 45, 190, 200, 40, 70, 54, 150, 120, 110])\n",
    "y = np.array([401, 574, 874, 919, 459, 739, 653, 902, 746, 832])"
   ]
  },
  {
   "cell_type": "code",
   "execution_count": 557,
   "metadata": {},
   "outputs": [],
   "source": [
    "def mse_(B1, X=X, y=y, n=10):\n",
    "    return np.sum((B1*X - y)**2)/n\n",
    "\n",
    "def for_cycle(b, alpha, m, n, X=X, y=y):\n",
    "    for i in range(m):\n",
    "        b -= alpha*(2/n) * np.sum((b * X - y) * X)\n",
    "        if i % 1000 == 0 and m <= 100000:\n",
    "            print(f'B1 = {b}, mse = {mse_(b)}')\n",
    "        elif i % 100 == 0 and m <= 1000:\n",
    "            print(f'B1 = {b}, mse = {mse_(b)}')\n",
    "        elif i % 10 == 0 and m <= 100:\n",
    "            print(f'B1 = {b}, mse = {mse_(b)}')\n",
    "        elif m <= 10:\n",
    "            print(f'B1 = {b}, mse = {mse_(b)}')"
   ]
  },
  {
   "cell_type": "code",
   "execution_count": 558,
   "metadata": {},
   "outputs": [],
   "source": [
    "alpha = 1e-6"
   ]
  },
  {
   "cell_type": "code",
   "execution_count": 559,
   "metadata": {},
   "outputs": [],
   "source": [
    "B1 = 6"
   ]
  },
  {
   "cell_type": "code",
   "execution_count": 560,
   "metadata": {},
   "outputs": [],
   "source": [
    "n = 10"
   ]
  },
  {
   "cell_type": "code",
   "execution_count": 561,
   "metadata": {},
   "outputs": [
    {
     "name": "stdout",
     "output_type": "stream",
     "text": [
      "B1 = 5.9969642, mse = 56675.010884630334\n",
      "B1 = 5.99401204600456, mse = 56666.415737423886\n",
      "B1 = 5.991141233298587, mse = 56658.28771258365\n",
      "B1 = 5.9883495206692645, mse = 56650.601423307075\n",
      "B1 = 5.98563472865636, mse = 56643.332862493815\n",
      "B1 = 5.9829947378507455, mse = 56636.45932776262\n",
      "B1 = 5.980427487239797, mse = 56629.959350543715\n",
      "B1 = 5.977930972598381, mse = 56623.81262902432\n",
      "B1 = 5.975503244924184, mse = 56617.9999647388\n",
      "B1 = 5.9731424089161385, mse = 56612.503202604785\n"
     ]
    }
   ],
   "source": [
    "for_cycle(B1, alpha, 10, n)"
   ]
  },
  {
   "cell_type": "code",
   "execution_count": 562,
   "metadata": {},
   "outputs": [
    {
     "name": "stdout",
     "output_type": "stream",
     "text": [
      "B1 = 5.9969642, mse = 56675.010884630334\n",
      "B1 = 5.970846621494791, mse = 56607.305174218185\n",
      "B1 = 5.951095515292692, mse = 56568.58455176568\n",
      "B1 = 5.936158977583853, mse = 56546.44038410262\n",
      "B1 = 5.924863399683319, mse = 56533.776224013534\n",
      "B1 = 5.916321254067367, mse = 56526.53364198457\n",
      "B1 = 5.909861358667003, mse = 56522.391638560955\n",
      "B1 = 5.904976140074413, mse = 56520.02284352452\n",
      "B1 = 5.901281751973945, mse = 56518.66813920615\n",
      "B1 = 5.898487915182776, mse = 56517.893389275516\n"
     ]
    }
   ],
   "source": [
    "for_cycle(B1, alpha, 100, n)"
   ]
  },
  {
   "cell_type": "code",
   "execution_count": 563,
   "metadata": {},
   "outputs": [
    {
     "name": "stdout",
     "output_type": "stream",
     "text": [
      "B1 = 5.9969642, mse = 56675.010884630334\n",
      "B1 = 5.889820420132767, mse = 56516.8584157194\n",
      "B1 = 5.889820420132705, mse = 56516.8584157194\n",
      "B1 = 5.889820420132705, mse = 56516.8584157194\n"
     ]
    }
   ],
   "source": [
    "for_cycle(B1, alpha, 4000, n)"
   ]
  },
  {
   "cell_type": "code",
   "execution_count": 564,
   "metadata": {},
   "outputs": [
    {
     "data": {
      "text/plain": [
       "56516.858421464"
      ]
     },
     "execution_count": 564,
     "metadata": {},
     "output_type": "execute_result"
    }
   ],
   "source": [
    "mse_(5.8898)"
   ]
  },
  {
   "cell_type": "markdown",
   "metadata": {},
   "source": [
    "### 3. В каких случаях для вычисления доверительных интервалов и проверки статистических гипотез используется таблица значений функции Лапласа, а в каких - таблица критических точек распределения Стьюдента?"
   ]
  },
  {
   "cell_type": "markdown",
   "metadata": {},
   "source": [
    "таблица значений функции Лапласа используется когда нам дана сигма"
   ]
  },
  {
   "cell_type": "markdown",
   "metadata": {},
   "source": [
    "таблица критических точек распределения Стьюдента используется когда неизвестна сигма"
   ]
  },
  {
   "cell_type": "markdown",
   "metadata": {},
   "source": [
    "### *4. Произвести вычисления как в пункте 2, но с вычислением intercept. Учесть, что изменение коэффициентов должно производиться на каждом шаге одновременно (то есть изменение одного коэффициента не должно влиять на изменение другого во время одной итерации)."
   ]
  },
  {
   "cell_type": "code",
   "execution_count": 637,
   "metadata": {},
   "outputs": [
    {
     "data": {
      "text/plain": [
       "(array([[ 35],\n",
       "        [ 45],\n",
       "        [190],\n",
       "        [200],\n",
       "        [ 40],\n",
       "        [ 70],\n",
       "        [ 54],\n",
       "        [150],\n",
       "        [120],\n",
       "        [110]]),\n",
       " array([[401],\n",
       "        [574],\n",
       "        [874],\n",
       "        [919],\n",
       "        [459],\n",
       "        [739],\n",
       "        [653],\n",
       "        [902],\n",
       "        [746],\n",
       "        [832]]))"
      ]
     },
     "execution_count": 637,
     "metadata": {},
     "output_type": "execute_result"
    }
   ],
   "source": [
    "X = zp.reshape((10,1))\n",
    "y = ks.reshape((10,1))\n",
    "X, y"
   ]
  },
  {
   "cell_type": "code",
   "execution_count": 662,
   "metadata": {},
   "outputs": [],
   "source": [
    "def mse_with_intercept(b_0, b_1, n, X=X, y=y):\n",
    "    return np.sum((b_0 + b_1*X - y)**2)/n\n",
    "\n",
    "def calc_b0_b1(b_0, b_1, alpha, m, n, X=X, y=y):\n",
    "    \n",
    "    for i in range(m):\n",
    "        \n",
    "        a = b_0 - alpha * (2/n) * np.sum(b_0 + b_1 * X - y)\n",
    "        b = b_1 - alpha * (2/n) * np.sum((b_0 + b_1 * X - y) * X)\n",
    "        \n",
    "        b_0, b_1 = a, b\n",
    "        \n",
    "        if i % 1000 == 0 and m <= 100000:\n",
    "            print(f'B0 = {b_0}, B1 = {b_1}, mse = {mse_with_intercept(b_0, b_1, n)}')\n",
    "        elif i % 100 == 0 and m <= 1000:\n",
    "            print(f'B0 = {b_0}, B1 = {b_1}, mse = {mse_with_intercept(b_0, b_1, n)}')\n",
    "        elif i % 10 == 0 and m <= 100:\n",
    "            print(f'B0 = {b_0}, B1 = {b_1}, mse = {mse_with_intercept(b_0, b_1, n)}')\n",
    "        elif m <= 10:\n",
    "            print(f'B0 = {b_0}, B1 = {b_1}, mse = {mse_with_intercept(b_0, b_1, n)}')"
   ]
  },
  {
   "cell_type": "code",
   "execution_count": 663,
   "metadata": {},
   "outputs": [],
   "source": [
    "alpha = 1e-6"
   ]
  },
  {
   "cell_type": "code",
   "execution_count": 664,
   "metadata": {},
   "outputs": [],
   "source": [
    "B0 = 444\n",
    "B1 = 0.1"
   ]
  },
  {
   "cell_type": "code",
   "execution_count": 665,
   "metadata": {},
   "outputs": [],
   "source": [
    "n = 10"
   ]
  },
  {
   "cell_type": "code",
   "execution_count": 666,
   "metadata": {},
   "outputs": [
    {
     "name": "stdout",
     "output_type": "stream",
     "text": [
      "B0 = 444.00051152, B1 = 0.16948488, mse = 89323.55847833301\n",
      "B0 = 444.00100894744327, B1 = 0.23705512546812801, mse = 84820.48013539784\n",
      "B0 = 444.0014926706459, B1 = 0.3027634935705381, mse = 80562.14466015899\n",
      "B0 = 444.0019630672241, B1 = 0.36666128776588336, mse = 76535.25024733422\n",
      "B0 = 444.0024205043888, B1 = 0.42879839786177937, mse = 72727.21804641192\n",
      "B0 = 444.0028653392327, B1 = 0.4892233389675241, mse = 69126.15286896935\n",
      "B0 = 444.0032979190089, B1 = 0.5479832893734877, mse = 65720.80603155323\n",
      "B0 = 444.003718581402, B1 = 0.6051241273867471, mse = 62500.54021805422\n",
      "B0 = 444.0041276547918, B1 = 0.6606904671517263, mse = 59455.29625181582\n",
      "B0 = 444.0045254585097, B1 = 0.7147256934838095, mse = 56575.561673683194\n"
     ]
    }
   ],
   "source": [
    "calc_b0_b1(B0, B1, alpha, 10, n)"
   ]
  },
  {
   "cell_type": "code",
   "execution_count": 667,
   "metadata": {},
   "outputs": [
    {
     "name": "stdout",
     "output_type": "stream",
     "text": [
      "B0 = 444.00051152, B1 = 0.16948488, mse = 89323.55847833301\n",
      "B0 = 444.00491230308813, B1 = 0.7672719957431257, mse = 53852.34102783905\n",
      "B0 = 444.00824048792475, B1 = 1.219334407832404, mse = 33567.11773037001\n",
      "B0 = 444.0107575456189, B1 = 1.561195948222588, mse = 21966.43656393121\n",
      "B0 = 444.01266120753286, B1 = 1.8197206773601846, mse = 15332.257508953746\n",
      "B0 = 444.0141010033478, B1 = 2.0152239076414684, mse = 11538.313765290757\n",
      "B0 = 444.0151900113599, B1 = 2.1630686151355265, mse = 9368.639264365283\n",
      "B0 = 444.0160137443649, B1 = 2.2748726883146357, mse = 8127.849269027526\n",
      "B0 = 444.0166368693985, B1 = 2.3594218814458894, mse = 7418.268264181235\n",
      "B0 = 444.0171082893821, B1 = 2.4233602140708737, mse = 7012.474210114599\n"
     ]
    }
   ],
   "source": [
    "calc_b0_b1(B0, B1, alpha, 100, n)"
   ]
  },
  {
   "cell_type": "code",
   "execution_count": 668,
   "metadata": {},
   "outputs": [
    {
     "name": "stdout",
     "output_type": "stream",
     "text": [
      "B0 = 444.00051152, B1 = 0.16948488, mse = 89323.55847833301\n",
      "B0 = 444.01864150145354, B1 = 2.6217071010298523, mse = 6470.420591176474\n",
      "B0 = 444.0187219979621, B1 = 2.621706508541758, mse = 6470.420584696434\n",
      "B0 = 444.0188024536448, B1 = 2.6217059163523615, mse = 6470.420578222968\n"
     ]
    }
   ],
   "source": [
    "calc_b0_b1(B0, B1, alpha, 4000, n)"
   ]
  },
  {
   "cell_type": "code",
   "execution_count": null,
   "metadata": {},
   "outputs": [],
   "source": []
  },
  {
   "cell_type": "code",
   "execution_count": null,
   "metadata": {},
   "outputs": [],
   "source": []
  }
 ],
 "metadata": {
  "kernelspec": {
   "display_name": "Python 3",
   "language": "python",
   "name": "python3"
  },
  "language_info": {
   "codemirror_mode": {
    "name": "ipython",
    "version": 3
   },
   "file_extension": ".py",
   "mimetype": "text/x-python",
   "name": "python",
   "nbconvert_exporter": "python",
   "pygments_lexer": "ipython3",
   "version": "3.7.7"
  }
 },
 "nbformat": 4,
 "nbformat_minor": 4
}
