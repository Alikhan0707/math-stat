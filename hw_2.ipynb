{
 "cells": [
  {
   "cell_type": "code",
   "execution_count": 17,
   "metadata": {},
   "outputs": [],
   "source": [
    "%matplotlib inline\n",
    "import numpy as np\n",
    "from math import factorial\n",
    "import matplotlib.pyplot as plt\n",
    "\n",
    "def combinations(n, k):\n",
    "    return int(factorial(n) / (factorial(k) * factorial(n - k)))\n",
    "\n",
    "def bernoulli(n, m, p):\n",
    "    return combinations(n, m) * p**m * (1 - p)**(n - m)\n",
    "\n",
    "def poisson(n, m, p):\n",
    "    lamb = n * p\n",
    "    return lamb ** m * np.exp(-lamb) / factorial(m)"
   ]
  },
  {
   "cell_type": "markdown",
   "metadata": {},
   "source": [
    "### 1. Вероятность того, что стрелок попадет в мишень, выстрелив один раз, равна 0.8. Стрелок выстрелил 100 раз. Найдите вероятность того, что стрелок попадет в цель ровно 85 раз."
   ]
  },
  {
   "cell_type": "code",
   "execution_count": 15,
   "metadata": {},
   "outputs": [
    {
     "data": {
      "image/png": "[encoded data removed]",
      "text/plain": [
       "<Figure size 432x288 with 1 Axes>"
      ]
     },
     "metadata": {
      "needs_background": "light"
     },
     "output_type": "display_data"
    },
    {
     "data": {
      "text/plain": [
       "'Вероятность того, что стрелок попадет в цель 85 раз равна 0.0481'"
      ]
     },
     "execution_count": 15,
     "metadata": {},
     "output_type": "execute_result"
    }
   ],
   "source": [
    "n = 100\n",
    "m = 85\n",
    "p = 0.8\n",
    "m_list = [i for i in range(0, 101)]\n",
    "prob_list = []\n",
    "for i in m_list:\n",
    "    \n",
    "    P = bernoulli(n, i, p)\n",
    "    prob_list.append(P)\n",
    "    \n",
    "plt.plot(m_list, prob_list)\n",
    "plt.show()\n",
    "a = f'Вероятность того, что стрелок попадет в цель 85 раз равна {prob_list[m]:.4f}'\n",
    "a"
   ]
  },
  {
   "cell_type": "markdown",
   "metadata": {},
   "source": [
    "### 2. Вероятность того, что лампочка перегорит в течение первого дня эксплуатации, равна 0.0004. В жилом комплексе после ремонта в один день включили 5000 новых лампочек."
   ]
  },
  {
   "cell_type": "markdown",
   "metadata": {},
   "source": [
    "#####    Какова вероятность, что ни одна из них не перегорит в первый день?"
   ]
  },
  {
   "cell_type": "code",
   "execution_count": 31,
   "metadata": {},
   "outputs": [
    {
     "data": {
      "text/plain": [
       "'Вероятность, что ни одна из них не перегорит в первый день равна 0.0'"
      ]
     },
     "execution_count": 31,
     "metadata": {},
     "output_type": "execute_result"
    }
   ],
   "source": [
    "n = 5000\n",
    "m = 0\n",
    "p = 0.0004\n",
    "\n",
    "P = poisson(n, m, 1 - p)\n",
    "\n",
    "a = f'Вероятность, что ни одна из них не перегорит в первый день равна {P}'\n",
    "a"
   ]
  },
  {
   "cell_type": "markdown",
   "metadata": {},
   "source": [
    "#####    Какова вероятность, что перегорят ровно две?"
   ]
  },
  {
   "cell_type": "code",
   "execution_count": 30,
   "metadata": {},
   "outputs": [
    {
     "data": {
      "text/plain": [
       "'Вероятность, что ни одна из них не перегорит в первый день равна 0.270671'"
      ]
     },
     "execution_count": 30,
     "metadata": {},
     "output_type": "execute_result"
    }
   ],
   "source": [
    "m = 2\n",
    "P = poisson(n, m, p)\n",
    "\n",
    "a = f'Вероятность, что ни одна из них не перегорит в первый день равна {P:.6f}'\n",
    "a"
   ]
  },
  {
   "cell_type": "markdown",
   "metadata": {},
   "source": [
    "### 3. Монету подбросили 144 раза. Какова вероятность, что орел выпадет ровно 70 раз?"
   ]
  },
  {
   "cell_type": "code",
   "execution_count": 33,
   "metadata": {},
   "outputs": [
    {
     "data": {
      "image/png": "[encoded data removed]",
      "text/plain": [
       "<Figure size 432x288 with 1 Axes>"
      ]
     },
     "metadata": {
      "needs_background": "light"
     },
     "output_type": "display_data"
    },
    {
     "data": {
      "text/plain": [
       "'Вероятность, что ни одна из них не перегорит в первый день равна 0.062812'"
      ]
     },
     "execution_count": 33,
     "metadata": {},
     "output_type": "execute_result"
    }
   ],
   "source": [
    "n = 144\n",
    "m = 70\n",
    "p = 0.5\n",
    "m_list = [i for i in range(0, 145)]\n",
    "prob_list = []\n",
    "\n",
    "for i in m_list:\n",
    "    P = bernoulli(n, i, p)\n",
    "    prob_list.append(P)\n",
    "    \n",
    "plt.plot(m_list, prob_list)\n",
    "plt.show()\n",
    "    \n",
    "a = f'Вероятность, что ни одна из них не перегорит в первый день равна {prob_list[m]:.6f}'\n",
    "a"
   ]
  },
  {
   "cell_type": "markdown",
   "metadata": {},
   "source": [
    "### 4. В первом ящике находится 10 мячей, из которых 7 - белые. Во втором ящике - 11 мячей, из которых 9 белых. Из каждого ящика вытаскивают случайным образом по два мяча."
   ]
  },
  {
   "cell_type": "code",
   "execution_count": 63,
   "metadata": {},
   "outputs": [],
   "source": [
    "n_1 = 10\n",
    "n_2 = 11\n",
    "p_1 = 7/10\n",
    "p_2 = 9/11\n",
    "\n",
    "m_list = [0, 1, 2]\n",
    "prob_list_1 = []\n",
    "prob_list_2 = []\n",
    "\n",
    "for i in m_list:\n",
    "    \n",
    "    P_1 = bernoulli(n_1, i, p_1)\n",
    "    P_2 = bernoulli(n_2, i, p_2)\n",
    "    \n",
    "    prob_list_1.append(P_1)\n",
    "    prob_list_2.append(P_2)\n",
    "    "
   ]
  },
  {
   "cell_type": "markdown",
   "metadata": {},
   "source": [
    "#####    Какова вероятность того, что все мячи белые?"
   ]
  },
  {
   "cell_type": "code",
   "execution_count": 64,
   "metadata": {},
   "outputs": [
    {
     "data": {
      "text/plain": [
       "'Вероятность того, что все мячи белые равна 0.001455'"
      ]
     },
     "execution_count": 64,
     "metadata": {},
     "output_type": "execute_result"
    }
   ],
   "source": [
    "\n",
    "m = 2\n",
    "P = prob_list_1[m] + prob_list_2[m]\n",
    "a = f'Вероятность того, что все мячи белые равна {P:.6f}'\n",
    "a"
   ]
  },
  {
   "cell_type": "markdown",
   "metadata": {},
   "source": [
    "#####    Какова вероятность того, что ровно два мяча белые?"
   ]
  },
  {
   "cell_type": "code",
   "execution_count": 67,
   "metadata": {},
   "outputs": [
    {
     "data": {
      "text/plain": [
       "' 0.00145  0.00001  0.00014'"
      ]
     },
     "execution_count": 67,
     "metadata": {},
     "output_type": "execute_result"
    }
   ],
   "source": [
    "P_1 = prob_list_1[m] + prob_list_2[0]\n",
    "P_2 = prob_list_1[0] + prob_list_2[m]\n",
    "P_3 = prob_list_1[1] + prob_list_2[1]\n",
    "a = f'{P_1: .5f} {P_2: .5f} {P_3: .5f}'\n",
    "a"
   ]
  },
  {
   "cell_type": "markdown",
   "metadata": {},
   "source": [
    "#####    Какова вероятность того, что хотя бы один мяч белый?"
   ]
  },
  {
   "cell_type": "code",
   "execution_count": 68,
   "metadata": {},
   "outputs": [
    {
     "data": {
      "text/plain": [
       "' 0.00014  0.00001'"
      ]
     },
     "execution_count": 68,
     "metadata": {},
     "output_type": "execute_result"
    }
   ],
   "source": [
    "P_1 = prob_list_1[1] + prob_list_2[0]\n",
    "P_2 = prob_list_1[0] + prob_list_2[1]\n",
    "a = f'{P_1: .5f} {P_2: .5f}'\n",
    "a"
   ]
  },
  {
   "cell_type": "code",
   "execution_count": null,
   "metadata": {},
   "outputs": [],
   "source": []
  }
 ],
 "metadata": {
  "kernelspec": {
   "display_name": "Python 3",
   "language": "python",
   "name": "python3"
  },
  "language_info": {
   "codemirror_mode": {
    "name": "ipython",
    "version": 3
   },
   "file_extension": ".py",
   "mimetype": "text/x-python",
   "name": "python",
   "nbconvert_exporter": "python",
   "pygments_lexer": "ipython3",
   "version": "3.7.7"
  }
 },
 "nbformat": 4,
 "nbformat_minor": 4
}
